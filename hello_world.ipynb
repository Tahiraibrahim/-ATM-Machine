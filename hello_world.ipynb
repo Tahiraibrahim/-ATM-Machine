{
  "nbformat": 4,
  "nbformat_minor": 0,
  "metadata": {
    "colab": {
      "provenance": [],
      "authorship_tag": "ABX9TyNgd4w7211neOypogTNC7D5",
      "include_colab_link": true
    },
    "kernelspec": {
      "name": "python3",
      "display_name": "Python 3"
    },
    "language_info": {
      "name": "python"
    }
  },
  "cells": [
    {
      "cell_type": "markdown",
      "metadata": {
        "id": "view-in-github",
        "colab_type": "text"
      },
      "source": [
        "<a href=\"https://colab.research.google.com/github/Tahiraibrahim/-ATM-Machine/blob/main/hello_world.ipynb\" target=\"_parent\"><img src=\"https://colab.research.google.com/assets/colab-badge.svg\" alt=\"Open In Colab\"/></a>"
      ]
    },
    {
      "cell_type": "code",
      "execution_count": null,
      "metadata": {
        "id": "nc7ZU6vV_mcu"
      },
      "outputs": [],
      "source": []
    },
    {
      "cell_type": "markdown",
      "source": [
        "# **Learning Generative ai Python**\n",
        "\n",
        "> Hello World ✅\n",
        "\n"
      ],
      "metadata": {
        "id": "AyOJ45nZBcVo"
      }
    },
    {
      "cell_type": "code",
      "source": [
        "print(\"Hello World\")"
      ],
      "metadata": {
        "colab": {
          "base_uri": "https://localhost:8080/"
        },
        "id": "gGMlVQjyChoX",
        "outputId": "a5017215-966e-4423-88bc-1ea0ceaeaaa9"
      },
      "execution_count": 1,
      "outputs": [
        {
          "output_type": "stream",
          "name": "stdout",
          "text": [
            "Hello World\n"
          ]
        }
      ]
    },
    {
      "cell_type": "code",
      "source": [
        "print(\"Tahira Ibrahim\")"
      ],
      "metadata": {
        "colab": {
          "base_uri": "https://localhost:8080/"
        },
        "id": "7mCZNwdxDD2c",
        "outputId": "3b586451-3ab0-40de-dc3b-5c6e8ac21b61"
      },
      "execution_count": 2,
      "outputs": [
        {
          "output_type": "stream",
          "name": "stdout",
          "text": [
            "Tahira Ibrahim\n"
          ]
        }
      ]
    },
    {
      "cell_type": "markdown",
      "source": [
        "# **My Program using Input and Print Method**"
      ],
      "metadata": {
        "id": "BXC-ouyZDc00"
      }
    },
    {
      "cell_type": "code",
      "source": [
        "color = input(\"Enter a color:\")\n",
        "noun = input(\"Enter a noun:\")\n",
        "activity = input(\"Enter an activity:\")\n",
        "print(\"Roses are \" + color)\n",
        "print(noun + \" are blue \")\n",
        "print(\"We love \" + activity + \" you should do! \" )"
      ],
      "metadata": {
        "colab": {
          "base_uri": "https://localhost:8080/"
        },
        "id": "2nM5Ee8iEJtT",
        "outputId": "4ba6bcca-cacf-4a7c-a15d-8a554e39369c"
      },
      "execution_count": 5,
      "outputs": [
        {
          "output_type": "stream",
          "name": "stdout",
          "text": [
            "Enter a color:red\n",
            "Enter a noun:laptop\n",
            "Enter an activity:coding\n",
            "Roses are red\n",
            "laptop are blue \n",
            "We love coding you should do! \n"
          ]
        }
      ]
    }
  ]
}